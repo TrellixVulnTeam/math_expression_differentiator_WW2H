{
 "cells": [
  {
   "cell_type": "markdown",
   "id": "sorted-cattle",
   "metadata": {},
   "source": [
    "<additive-expression> ::= <multiplicative-expression>\n",
    "                        | <additive-expression> + <multiplicative-expression>\n",
    "                        | <additive-expression> - <multiplicative-expression>\n",
    "<multiplicative-expression> ::= <cast-expression>\n",
    "                              | <multiplicative-expression> * <cast-expression>\n",
    "                              | <multiplicative-expression> / <cast-expression>\n",
    "                              | <multiplicative-expression> % <cast-expression>\n",
    "    \n",
    "<expression> ::= <term>\n",
    "               | <expression> + <term>\n",
    "               | <expression> - <term>\n",
    "\n",
    "<term> ::= <factor>\n",
    "         | <term> * <factor>\n",
    "         | <term> / <factor>\n",
    "\n",
    "<factor> ::= <func>\n",
    "           | - <factor>\n",
    "           | + <factor>\n",
    "\n",
    "<func> ::= <primary>\n",
    "         | <'sin('primary')'>\n",
    "         | <'cos('primary')'>\n",
    "         | <'tan('primary')'>\n",
    "         | <'exp('primary')'>\n",
    "         | <'ln('primary')'>\n",
    "         | <'log('primary')'>\n",
    "         | <'pow('primary ',' primary ')'>\n",
    "\n",
    "<primary> ::= <IDENTIFIER>\n",
    "            | <INTEGER>\n",
    "            | <FLOATING_POINT_LITERAL>\n",
    "            | <'(' expression ')'>\n"
   ]
  }
 ],
 "metadata": {
  "kernelspec": {
   "display_name": "Python 3",
   "language": "python",
   "name": "python3"
  },
  "language_info": {
   "codemirror_mode": {
    "name": "ipython",
    "version": 3
   },
   "file_extension": ".py",
   "mimetype": "text/x-python",
   "name": "python",
   "nbconvert_exporter": "python",
   "pygments_lexer": "ipython3",
   "version": "3.8.3"
  }
 },
 "nbformat": 4,
 "nbformat_minor": 5
}

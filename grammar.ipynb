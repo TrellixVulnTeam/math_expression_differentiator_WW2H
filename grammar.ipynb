{
 "cells": [
  {
   "cell_type": "code",
   "execution_count": 1,
   "id": "european-mineral",
   "metadata": {},
   "outputs": [
    {
     "output_type": "stream",
     "name": "stderr",
     "text": [
      "WARNING: 1 shift/reduce conflict\n"
     ]
    }
   ],
   "source": [
    "from diff_calc import mathLexer, mathParser\n",
    "from IPython.display import display"
   ]
  },
  {
   "cell_type": "code",
   "execution_count": 2,
   "metadata": {},
   "outputs": [],
   "source": [
    "expression = \"def bol(x) {x+1} sin(x)+1+2*x\"\n",
    "\n",
    "# как добавить diff_arg в код, и как считывать его\n",
    "# нужно ли обрабатывать нули и 1 и где это делать"
   ]
  },
  {
   "cell_type": "code",
   "execution_count": 3,
   "metadata": {},
   "outputs": [],
   "source": [
    "lexer  = mathLexer()\n",
    "parser = mathParser()"
   ]
  },
  {
   "cell_type": "code",
   "execution_count": 4,
   "metadata": {},
   "outputs": [
    {
     "output_type": "stream",
     "name": "stdout",
     "text": [
      "Token(type='DEF', value='def', lineno=1, index=0)\nToken(type='ID', value='bol', lineno=1, index=4)\nToken(type='(', value='(', lineno=1, index=7)\nToken(type='ID', value='x', lineno=1, index=8)\nToken(type=')', value=')', lineno=1, index=9)\nToken(type='{', value='{', lineno=1, index=11)\nToken(type='ID', value='x', lineno=1, index=12)\nToken(type='PLUS', value='+', lineno=1, index=13)\nToken(type='NUMBER', value=1, lineno=1, index=14)\nToken(type='}', value='}', lineno=1, index=15)\nToken(type='SIN', value='sin', lineno=1, index=17)\nToken(type='(', value='(', lineno=1, index=20)\nToken(type='ID', value='x', lineno=1, index=21)\nToken(type=')', value=')', lineno=1, index=22)\nToken(type='PLUS', value='+', lineno=1, index=23)\nToken(type='NUMBER', value=1, lineno=1, index=24)\nToken(type='PLUS', value='+', lineno=1, index=25)\nToken(type='NUMBER', value=2, lineno=1, index=26)\nToken(type='TIMES', value='*', lineno=1, index=27)\nToken(type='ID', value='x', lineno=1, index=28)\n"
     ]
    }
   ],
   "source": [
    "for token in lexer.tokenize(expression):\n",
    "    print(token)"
   ]
  },
  {
   "cell_type": "code",
   "execution_count": 5,
   "metadata": {},
   "outputs": [
    {
     "output_type": "stream",
     "name": "stderr",
     "text": [
      "sly: Syntax error at line 1, token=SIN\n"
     ]
    },
    {
     "output_type": "execute_result",
     "data": {
      "text/plain": [
       "<diff_calc.mathParser.BinOp at 0x68b5e68>"
      ]
     },
     "metadata": {},
     "execution_count": 5
    }
   ],
   "source": [
    "result = parser.parse(lexer.tokenize(expression))\n",
    "result"
   ]
  },
  {
   "cell_type": "code",
   "execution_count": 6,
   "metadata": {},
   "outputs": [
    {
     "output_type": "execute_result",
     "data": {
      "text/plain": [
       "'((x+1)+(2*x))'"
      ]
     },
     "metadata": {},
     "execution_count": 6
    }
   ],
   "source": [
    "result.to_python_expr()"
   ]
  },
  {
   "cell_type": "code",
   "execution_count": 7,
   "metadata": {},
   "outputs": [
    {
     "output_type": "execute_result",
     "data": {
      "text/plain": [
       "'(1+2)'"
      ]
     },
     "metadata": {},
     "execution_count": 7
    }
   ],
   "source": [
    "result.differentiate_expr()"
   ]
  },
  {
   "cell_type": "code",
   "execution_count": 8,
   "metadata": {},
   "outputs": [
    {
     "output_type": "execute_result",
     "data": {
      "text/plain": [
       "'def orig(x): return ((x+1)+(2*x))'"
      ]
     },
     "metadata": {},
     "execution_count": 8
    }
   ],
   "source": [
    "\"def orig(x): return \" + result.to_python_expr()"
   ]
  },
  {
   "cell_type": "code",
   "execution_count": 9,
   "metadata": {},
   "outputs": [
    {
     "output_type": "execute_result",
     "data": {
      "text/plain": [
       "'def diff(x): return ((x+1)+(2*x))'"
      ]
     },
     "metadata": {},
     "execution_count": 9
    }
   ],
   "source": [
    "\"def diff(x): return \" + result.to_python_expr()"
   ]
  },
  {
   "cell_type": "code",
   "execution_count": 10,
   "metadata": {},
   "outputs": [],
   "source": [
    "# from file import f\n",
    "# from file2 import diff"
   ]
  },
  {
   "cell_type": "code",
   "execution_count": null,
   "metadata": {},
   "outputs": [],
   "source": []
  }
 ],
 "metadata": {
  "kernelspec": {
   "name": "pythonjvsc74a57bd0dfd39d5301cc9af0e85401cd8995f7b6c3ab2125c5091486c6a512e60e36339c",
   "display_name": "Python 3.8.3  ('venv': venv)"
  },
  "language_info": {
   "codemirror_mode": {
    "name": "ipython",
    "version": 3
   },
   "file_extension": ".py",
   "mimetype": "text/x-python",
   "name": "python",
   "nbconvert_exporter": "python",
   "pygments_lexer": "ipython3",
   "version": "3.8.3"
  },
  "metadata": {
   "interpreter": {
    "hash": "dfd39d5301cc9af0e85401cd8995f7b6c3ab2125c5091486c6a512e60e36339c"
   }
  }
 },
 "nbformat": 4,
 "nbformat_minor": 5
}
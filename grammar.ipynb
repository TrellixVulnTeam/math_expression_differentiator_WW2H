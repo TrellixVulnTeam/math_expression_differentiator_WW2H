{
 "cells": [
  {
   "source": [
    "<additive-expression> ::= <multiplicative-expression>\n",
    "                        | <additive-expression> + <multiplicative-expression>\n",
    "                        | <additive-expression> - <multiplicative-expression>\n",
    "<multiplicative-expression> ::= <cast-expression>\n",
    "                              | <multiplicative-expression> * <cast-expression>\n",
    "                              | <multiplicative-expression> / <cast-expression>\n",
    "                              | <multiplicative-expression> % <cast-expression>\n",
    "    \n",
    "<expression> ::= <term>\n",
    "               | <expression> + <term>\n",
    "               | <expression> - <term>\n",
    "\n",
    "<term> ::= <factor>\n",
    "         | <term> * <factor>\n",
    "         | <term> / <factor>\n",
    "\n",
    "<factor> ::= <func>\n",
    "           | - <factor>\n",
    "           | + <factor>\n",
    "\n",
    "<func> ::= <primary>\n",
    "         | <'sin('primary')'>\n",
    "         | <'cos('primary')'>\n",
    "         | <'tan('primary')'>\n",
    "         | <'exp('primary')'>\n",
    "         | <'ln('primary')'>\n",
    "         | <'log('primary')'>\n",
    "         | <'pow('primary ',' primary ')'>\n",
    "\n",
    "<primary> ::= <IDENTIFIER>\n",
    "            | <INTEGER>\n",
    "            | <FLOATING_POINT_LITERAL>\n",
    "            | <'(' expression ')'>\n"
   ],
   "cell_type": "markdown",
   "metadata": {}
  },
  {
   "source": [],
   "cell_type": "code",
   "metadata": {},
   "execution_count": null,
   "outputs": []
  }
 ],
 "metadata": {
  "kernelspec": {
   "name": "python383jvsc74a57bd07a542ca580817fc4dd55327026e074e2fa0cd470fc5dee9350c2d8b13822db8d",
   "display_name": "Python 3.8.3 32-bit"
  },
  "language_info": {
   "codemirror_mode": {
    "name": "ipython",
    "version": 3
   },
   "file_extension": ".py",
   "mimetype": "text/x-python",
   "name": "python",
   "nbconvert_exporter": "python",
   "pygments_lexer": "ipython3",
   "version": "3.8.3"
  },
  "metadata": {
   "interpreter": {
    "hash": "7a542ca580817fc4dd55327026e074e2fa0cd470fc5dee9350c2d8b13822db8d"
   }
  }
 },
 "nbformat": 4,
 "nbformat_minor": 5
}